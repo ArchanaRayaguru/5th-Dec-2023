{
 "cells": [
  {
   "cell_type": "code",
   "execution_count": 14,
   "outputs": [],
   "source": [
    "import pandas as pd\n",
    "import numpy as np"
   ],
   "metadata": {
    "collapsed": false,
    "ExecuteTime": {
     "start_time": "2023-04-09T12:30:01.115448Z",
     "end_time": "2023-04-09T12:30:01.155768Z"
    }
   }
  },
  {
   "cell_type": "code",
   "execution_count": 2,
   "outputs": [
    {
     "name": "stderr",
     "output_type": "stream",
     "text": [
      "2023-04-09 12:28:56.424014: I tensorflow/tsl/cuda/cudart_stub.cc:28] Could not find cuda drivers on your machine, GPU will not be used.\n",
      "2023-04-09 12:28:56.470687: I tensorflow/tsl/cuda/cudart_stub.cc:28] Could not find cuda drivers on your machine, GPU will not be used.\n",
      "2023-04-09 12:28:56.471691: I tensorflow/core/platform/cpu_feature_guard.cc:182] This TensorFlow binary is optimized to use available CPU instructions in performance-critical operations.\n",
      "To enable the following instructions: AVX2 FMA, in other operations, rebuild TensorFlow with the appropriate compiler flags.\n",
      "2023-04-09 12:28:57.468150: W tensorflow/compiler/tf2tensorrt/utils/py_utils.cc:38] TF-TRT Warning: Could not find TensorRT\n"
     ]
    }
   ],
   "source": [
    "from sklearn.model_selection import train_test_split\n",
    "from sklearn.metrics import accuracy_score\n",
    "from tensorflow.python.keras.models import Sequential, load_model\n",
    "from tensorflow.python.keras.layers import Dense, Dropout"
   ],
   "metadata": {
    "collapsed": false,
    "ExecuteTime": {
     "start_time": "2023-04-09T12:28:55.628927Z",
     "end_time": "2023-04-09T12:28:58.310965Z"
    }
   }
  },
  {
   "cell_type": "code",
   "execution_count": 3,
   "outputs": [
    {
     "data": {
      "text/plain": "   age  sex  cp  trestbps  chol  fbs  restecg  thalach  exang  oldpeak  slope   \n0   52    1   0       125   212    0        1      168      0      1.0      2  \\\n1   53    1   0       140   203    1        0      155      1      3.1      0   \n2   70    1   0       145   174    0        1      125      1      2.6      0   \n3   61    1   0       148   203    0        1      161      0      0.0      2   \n4   62    0   0       138   294    1        1      106      0      1.9      1   \n\n   ca  thal  target  \n0   2     3       0  \n1   0     3       0  \n2   0     3       0  \n3   1     3       0  \n4   3     2       0  ",
      "text/html": "<div>\n<style scoped>\n    .dataframe tbody tr th:only-of-type {\n        vertical-align: middle;\n    }\n\n    .dataframe tbody tr th {\n        vertical-align: top;\n    }\n\n    .dataframe thead th {\n        text-align: right;\n    }\n</style>\n<table border=\"1\" class=\"dataframe\">\n  <thead>\n    <tr style=\"text-align: right;\">\n      <th></th>\n      <th>age</th>\n      <th>sex</th>\n      <th>cp</th>\n      <th>trestbps</th>\n      <th>chol</th>\n      <th>fbs</th>\n      <th>restecg</th>\n      <th>thalach</th>\n      <th>exang</th>\n      <th>oldpeak</th>\n      <th>slope</th>\n      <th>ca</th>\n      <th>thal</th>\n      <th>target</th>\n    </tr>\n  </thead>\n  <tbody>\n    <tr>\n      <th>0</th>\n      <td>52</td>\n      <td>1</td>\n      <td>0</td>\n      <td>125</td>\n      <td>212</td>\n      <td>0</td>\n      <td>1</td>\n      <td>168</td>\n      <td>0</td>\n      <td>1.0</td>\n      <td>2</td>\n      <td>2</td>\n      <td>3</td>\n      <td>0</td>\n    </tr>\n    <tr>\n      <th>1</th>\n      <td>53</td>\n      <td>1</td>\n      <td>0</td>\n      <td>140</td>\n      <td>203</td>\n      <td>1</td>\n      <td>0</td>\n      <td>155</td>\n      <td>1</td>\n      <td>3.1</td>\n      <td>0</td>\n      <td>0</td>\n      <td>3</td>\n      <td>0</td>\n    </tr>\n    <tr>\n      <th>2</th>\n      <td>70</td>\n      <td>1</td>\n      <td>0</td>\n      <td>145</td>\n      <td>174</td>\n      <td>0</td>\n      <td>1</td>\n      <td>125</td>\n      <td>1</td>\n      <td>2.6</td>\n      <td>0</td>\n      <td>0</td>\n      <td>3</td>\n      <td>0</td>\n    </tr>\n    <tr>\n      <th>3</th>\n      <td>61</td>\n      <td>1</td>\n      <td>0</td>\n      <td>148</td>\n      <td>203</td>\n      <td>0</td>\n      <td>1</td>\n      <td>161</td>\n      <td>0</td>\n      <td>0.0</td>\n      <td>2</td>\n      <td>1</td>\n      <td>3</td>\n      <td>0</td>\n    </tr>\n    <tr>\n      <th>4</th>\n      <td>62</td>\n      <td>0</td>\n      <td>0</td>\n      <td>138</td>\n      <td>294</td>\n      <td>1</td>\n      <td>1</td>\n      <td>106</td>\n      <td>0</td>\n      <td>1.9</td>\n      <td>1</td>\n      <td>3</td>\n      <td>2</td>\n      <td>0</td>\n    </tr>\n  </tbody>\n</table>\n</div>"
     },
     "execution_count": 3,
     "metadata": {},
     "output_type": "execute_result"
    }
   ],
   "source": [
    "df = pd.read_csv('../data/heart.csv')\n",
    "df.head()"
   ],
   "metadata": {
    "collapsed": false,
    "ExecuteTime": {
     "start_time": "2023-04-09T12:28:58.313158Z",
     "end_time": "2023-04-09T12:28:58.341601Z"
    }
   }
  },
  {
   "cell_type": "code",
   "execution_count": 4,
   "outputs": [],
   "source": [
    "X = df.drop('target', axis=1)\n",
    "y = df['target']"
   ],
   "metadata": {
    "collapsed": false,
    "ExecuteTime": {
     "start_time": "2023-04-09T12:28:58.339875Z",
     "end_time": "2023-04-09T12:28:58.380935Z"
    }
   }
  },
  {
   "cell_type": "code",
   "execution_count": 5,
   "outputs": [],
   "source": [
    "X_train, X_test, y_train, y_test = train_test_split(X, y, test_size=0.2, random_state=42)"
   ],
   "metadata": {
    "collapsed": false,
    "ExecuteTime": {
     "start_time": "2023-04-09T12:28:58.345169Z",
     "end_time": "2023-04-09T12:28:58.381206Z"
    }
   }
  },
  {
   "cell_type": "code",
   "execution_count": 6,
   "outputs": [],
   "source": [
    "model = Sequential([\n",
    "    Dense(64, input_dim=13, activation='relu'),\n",
    "    Dropout(0.1),\n",
    "    Dense(32, activation='relu'),\n",
    "    Dropout(0.1),\n",
    "    Dense(1, activation='sigmoid')\n",
    "])"
   ],
   "metadata": {
    "collapsed": false,
    "ExecuteTime": {
     "start_time": "2023-04-09T12:28:58.392234Z",
     "end_time": "2023-04-09T12:28:58.554450Z"
    }
   }
  },
  {
   "cell_type": "code",
   "execution_count": 7,
   "outputs": [],
   "source": [
    "model.compile(loss='binary_crossentropy', optimizer='rmsprop', metrics=['accuracy'])"
   ],
   "metadata": {
    "collapsed": false,
    "ExecuteTime": {
     "start_time": "2023-04-09T12:28:58.485721Z",
     "end_time": "2023-04-09T12:28:58.555141Z"
    }
   }
  },
  {
   "cell_type": "code",
   "execution_count": 8,
   "outputs": [
    {
     "name": "stdout",
     "output_type": "stream",
     "text": [
      "Epoch 1/64\n",
      "103/103 [==============================] - 1s 2ms/step - loss: 4.5497 - accuracy: 0.5646\n",
      "Epoch 2/64\n",
      "103/103 [==============================] - 0s 2ms/step - loss: 1.3239 - accuracy: 0.6085\n",
      "Epoch 3/64\n",
      "103/103 [==============================] - 0s 2ms/step - loss: 0.8962 - accuracy: 0.5866\n",
      "Epoch 4/64\n",
      "103/103 [==============================] - 0s 2ms/step - loss: 0.7114 - accuracy: 0.5866\n",
      "Epoch 5/64\n",
      "103/103 [==============================] - 0s 2ms/step - loss: 0.6576 - accuracy: 0.6293\n",
      "Epoch 6/64\n",
      "103/103 [==============================] - 0s 2ms/step - loss: 0.6499 - accuracy: 0.6537\n",
      "Epoch 7/64\n",
      "103/103 [==============================] - 0s 2ms/step - loss: 0.6301 - accuracy: 0.6695\n",
      "Epoch 8/64\n",
      "103/103 [==============================] - 0s 2ms/step - loss: 0.6187 - accuracy: 0.6720\n",
      "Epoch 9/64\n",
      "103/103 [==============================] - 0s 2ms/step - loss: 0.6432 - accuracy: 0.6720\n",
      "Epoch 10/64\n",
      "103/103 [==============================] - 0s 2ms/step - loss: 0.6020 - accuracy: 0.6878\n",
      "Epoch 11/64\n",
      "103/103 [==============================] - 0s 2ms/step - loss: 0.6108 - accuracy: 0.6817\n",
      "Epoch 12/64\n",
      "103/103 [==============================] - 0s 2ms/step - loss: 0.5804 - accuracy: 0.7122\n",
      "Epoch 13/64\n",
      "103/103 [==============================] - 0s 2ms/step - loss: 0.5912 - accuracy: 0.6963\n",
      "Epoch 14/64\n",
      "103/103 [==============================] - 0s 2ms/step - loss: 0.5820 - accuracy: 0.7195\n",
      "Epoch 15/64\n",
      "103/103 [==============================] - 0s 1ms/step - loss: 0.5722 - accuracy: 0.7024\n",
      "Epoch 16/64\n",
      "103/103 [==============================] - 0s 1ms/step - loss: 0.5415 - accuracy: 0.7293\n",
      "Epoch 17/64\n",
      "103/103 [==============================] - 0s 2ms/step - loss: 0.5721 - accuracy: 0.7220\n",
      "Epoch 18/64\n",
      "103/103 [==============================] - 0s 2ms/step - loss: 0.5365 - accuracy: 0.7476\n",
      "Epoch 19/64\n",
      "103/103 [==============================] - 0s 2ms/step - loss: 0.5337 - accuracy: 0.7463\n",
      "Epoch 20/64\n",
      "103/103 [==============================] - 0s 2ms/step - loss: 0.5397 - accuracy: 0.7232\n",
      "Epoch 21/64\n",
      "103/103 [==============================] - 0s 1ms/step - loss: 0.5615 - accuracy: 0.7341\n",
      "Epoch 22/64\n",
      "103/103 [==============================] - 0s 2ms/step - loss: 0.5477 - accuracy: 0.7476\n",
      "Epoch 23/64\n",
      "103/103 [==============================] - 0s 2ms/step - loss: 0.5118 - accuracy: 0.7488\n",
      "Epoch 24/64\n",
      "103/103 [==============================] - 0s 2ms/step - loss: 0.5193 - accuracy: 0.7573\n",
      "Epoch 25/64\n",
      "103/103 [==============================] - 0s 2ms/step - loss: 0.4912 - accuracy: 0.7610\n",
      "Epoch 26/64\n",
      "103/103 [==============================] - 0s 2ms/step - loss: 0.4913 - accuracy: 0.7683\n",
      "Epoch 27/64\n",
      "103/103 [==============================] - 0s 2ms/step - loss: 0.4969 - accuracy: 0.7720\n",
      "Epoch 28/64\n",
      "103/103 [==============================] - 0s 1ms/step - loss: 0.4650 - accuracy: 0.7720\n",
      "Epoch 29/64\n",
      "103/103 [==============================] - 0s 2ms/step - loss: 0.4766 - accuracy: 0.7756\n",
      "Epoch 30/64\n",
      "103/103 [==============================] - 0s 2ms/step - loss: 0.4648 - accuracy: 0.8024\n",
      "Epoch 31/64\n",
      "103/103 [==============================] - 0s 2ms/step - loss: 0.4834 - accuracy: 0.7756\n",
      "Epoch 32/64\n",
      "103/103 [==============================] - 0s 2ms/step - loss: 0.4567 - accuracy: 0.7915\n",
      "Epoch 33/64\n",
      "103/103 [==============================] - 0s 2ms/step - loss: 0.4395 - accuracy: 0.7988\n",
      "Epoch 34/64\n",
      "103/103 [==============================] - 0s 2ms/step - loss: 0.4338 - accuracy: 0.8000\n",
      "Epoch 35/64\n",
      "103/103 [==============================] - 0s 2ms/step - loss: 0.4581 - accuracy: 0.7963\n",
      "Epoch 36/64\n",
      "103/103 [==============================] - 0s 2ms/step - loss: 0.4441 - accuracy: 0.8024\n",
      "Epoch 37/64\n",
      "103/103 [==============================] - 0s 2ms/step - loss: 0.4376 - accuracy: 0.8268\n",
      "Epoch 38/64\n",
      "103/103 [==============================] - 0s 2ms/step - loss: 0.4499 - accuracy: 0.8049\n",
      "Epoch 39/64\n",
      "103/103 [==============================] - 0s 2ms/step - loss: 0.4377 - accuracy: 0.8085\n",
      "Epoch 40/64\n",
      "103/103 [==============================] - 0s 2ms/step - loss: 0.4349 - accuracy: 0.8183\n",
      "Epoch 41/64\n",
      "103/103 [==============================] - 0s 1ms/step - loss: 0.4423 - accuracy: 0.8244\n",
      "Epoch 42/64\n",
      "103/103 [==============================] - 0s 1ms/step - loss: 0.4148 - accuracy: 0.8207\n",
      "Epoch 43/64\n",
      "103/103 [==============================] - 0s 2ms/step - loss: 0.4351 - accuracy: 0.8061\n",
      "Epoch 44/64\n",
      "103/103 [==============================] - 0s 2ms/step - loss: 0.4079 - accuracy: 0.8085\n",
      "Epoch 45/64\n",
      "103/103 [==============================] - 0s 1ms/step - loss: 0.4206 - accuracy: 0.8207\n",
      "Epoch 46/64\n",
      "103/103 [==============================] - 0s 1ms/step - loss: 0.4257 - accuracy: 0.8171\n",
      "Epoch 47/64\n",
      "103/103 [==============================] - 0s 2ms/step - loss: 0.4021 - accuracy: 0.8341\n",
      "Epoch 48/64\n",
      "103/103 [==============================] - 0s 2ms/step - loss: 0.4144 - accuracy: 0.8232\n",
      "Epoch 49/64\n",
      "103/103 [==============================] - 0s 2ms/step - loss: 0.4028 - accuracy: 0.8244\n",
      "Epoch 50/64\n",
      "103/103 [==============================] - 0s 1ms/step - loss: 0.4371 - accuracy: 0.8159\n",
      "Epoch 51/64\n",
      "103/103 [==============================] - 0s 2ms/step - loss: 0.4072 - accuracy: 0.8256\n",
      "Epoch 52/64\n",
      "103/103 [==============================] - 0s 2ms/step - loss: 0.3872 - accuracy: 0.8280\n",
      "Epoch 53/64\n",
      "103/103 [==============================] - 0s 2ms/step - loss: 0.4130 - accuracy: 0.8220\n",
      "Epoch 54/64\n",
      "103/103 [==============================] - 0s 2ms/step - loss: 0.3977 - accuracy: 0.8402\n",
      "Epoch 55/64\n",
      "103/103 [==============================] - 0s 2ms/step - loss: 0.3966 - accuracy: 0.8317\n",
      "Epoch 56/64\n",
      "103/103 [==============================] - 0s 2ms/step - loss: 0.3950 - accuracy: 0.8366\n",
      "Epoch 57/64\n",
      "103/103 [==============================] - 0s 2ms/step - loss: 0.3982 - accuracy: 0.8268\n",
      "Epoch 58/64\n",
      "103/103 [==============================] - 0s 1ms/step - loss: 0.3872 - accuracy: 0.8366\n",
      "Epoch 59/64\n",
      "103/103 [==============================] - 0s 2ms/step - loss: 0.4051 - accuracy: 0.8305\n",
      "Epoch 60/64\n",
      "103/103 [==============================] - 0s 2ms/step - loss: 0.3887 - accuracy: 0.8280\n",
      "Epoch 61/64\n",
      "103/103 [==============================] - 0s 2ms/step - loss: 0.3925 - accuracy: 0.8415\n",
      "Epoch 62/64\n",
      "103/103 [==============================] - 0s 2ms/step - loss: 0.4005 - accuracy: 0.8317\n",
      "Epoch 63/64\n",
      "103/103 [==============================] - 0s 2ms/step - loss: 0.3814 - accuracy: 0.8451\n",
      "Epoch 64/64\n",
      "103/103 [==============================] - 0s 2ms/step - loss: 0.4047 - accuracy: 0.8244\n"
     ]
    },
    {
     "data": {
      "text/plain": "<tensorflow.python.keras.callbacks.History at 0x7f031ad70650>"
     },
     "execution_count": 8,
     "metadata": {},
     "output_type": "execute_result"
    }
   ],
   "source": [
    "model.fit(X_train, y_train, epochs=64, batch_size=8, verbose=1)"
   ],
   "metadata": {
    "collapsed": false,
    "ExecuteTime": {
     "start_time": "2023-04-09T12:28:58.503538Z",
     "end_time": "2023-04-09T12:29:10.052741Z"
    }
   }
  },
  {
   "cell_type": "code",
   "execution_count": 9,
   "outputs": [
    {
     "name": "stdout",
     "output_type": "stream",
     "text": [
      "Test accuracy: 0.78\n"
     ]
    }
   ],
   "source": [
    "loss, accuracy = model.evaluate(X_test, y_test, verbose=0)\n",
    "print(f'Test accuracy: {accuracy:.2f}')"
   ],
   "metadata": {
    "collapsed": false,
    "ExecuteTime": {
     "start_time": "2023-04-09T12:29:10.052337Z",
     "end_time": "2023-04-09T12:29:10.263360Z"
    }
   }
  },
  {
   "cell_type": "code",
   "execution_count": 10,
   "outputs": [],
   "source": [
    "model.save('../model/heart_model.h5')"
   ],
   "metadata": {
    "collapsed": false,
    "ExecuteTime": {
     "start_time": "2023-04-09T12:29:10.262204Z",
     "end_time": "2023-04-09T12:29:10.352654Z"
    }
   }
  },
  {
   "cell_type": "code",
   "execution_count": 11,
   "outputs": [],
   "source": [
    "model = load_model('../model/heart_model.h5')"
   ],
   "metadata": {
    "collapsed": false,
    "ExecuteTime": {
     "start_time": "2023-04-09T12:29:10.352256Z",
     "end_time": "2023-04-09T12:29:10.397578Z"
    }
   }
  },
  {
   "cell_type": "code",
   "execution_count": 12,
   "outputs": [],
   "source": [
    "predictions = model.predict(X_test)"
   ],
   "metadata": {
    "collapsed": false,
    "ExecuteTime": {
     "start_time": "2023-04-09T12:29:10.395552Z",
     "end_time": "2023-04-09T12:29:10.529529Z"
    }
   }
  },
  {
   "cell_type": "code",
   "execution_count": 15,
   "outputs": [],
   "source": [
    "binary_predictions = np.round(predictions).astype(int)"
   ],
   "metadata": {
    "collapsed": false,
    "ExecuteTime": {
     "start_time": "2023-04-09T12:30:13.020918Z",
     "end_time": "2023-04-09T12:30:13.027594Z"
    }
   }
  },
  {
   "cell_type": "code",
   "execution_count": 16,
   "outputs": [
    {
     "name": "stdout",
     "output_type": "stream",
     "text": [
      "Accuracy: 0.7804878048780488\n"
     ]
    }
   ],
   "source": [
    "accuracy = accuracy_score(y_test, binary_predictions)\n",
    "print('Accuracy:', accuracy)"
   ],
   "metadata": {
    "collapsed": false,
    "ExecuteTime": {
     "start_time": "2023-04-09T12:30:16.103213Z",
     "end_time": "2023-04-09T12:30:16.114616Z"
    }
   }
  }
 ],
 "metadata": {
  "kernelspec": {
   "display_name": "Python 3",
   "language": "python",
   "name": "python3"
  },
  "language_info": {
   "codemirror_mode": {
    "name": "ipython",
    "version": 2
   },
   "file_extension": ".py",
   "mimetype": "text/x-python",
   "name": "python",
   "nbconvert_exporter": "python",
   "pygments_lexer": "ipython2",
   "version": "2.7.6"
  }
 },
 "nbformat": 4,
 "nbformat_minor": 0
}
